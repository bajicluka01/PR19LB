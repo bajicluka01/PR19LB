{
 "cells": [
  {
   "cell_type": "markdown",
   "metadata": {},
   "source": [
    "# Turizem v Sloveniji"
   ]
  },
  {
   "cell_type": "markdown",
   "metadata": {},
   "source": [
    "Avtor: Luka Bajić"
   ]
  },
  {
   "cell_type": "markdown",
   "metadata": {},
   "source": [
    "## Opis problema"
   ]
  },
  {
   "cell_type": "markdown",
   "metadata": {},
   "source": [
    "Ukvarjal se bom z analizo turizma v Sloveniji med letoma 2007 in 2017. Ključna vprašanja na katera bom odgovarjal so:\n",
    "* kako se je število turistov spreminjalo v obdobju 10 let\n",
    "* v katerih občinah turistična aktivnost raste in v katerih vpada\n",
    "* kako je turistična obremenitev porazdeljena po mesecih in kako po občinah"
   ]
  },
  {
   "cell_type": "markdown",
   "metadata": {},
   "source": [
    "## Podatki"
   ]
  },
  {
   "cell_type": "markdown",
   "metadata": {},
   "source": [
    "Uporabljal bom 3 datoteke:\n",
    "* turisti po državah (podatki o številu turistov in številu nočitev za vsako državo za obdobje 10 let)\n",
    "* turisti po občinah (podatki o številu turistov za vsako državo in za vsako občino po mesecih)\n",
    "* turisti po občinah brez držav (podatki o številu turistov za vsako občino po mesecih)\n",
    "\n",
    "Podatki so na voljo na:\n",
    "* https://podatki.gov.si/dataset/surs2164408s\n",
    "* https://podatki.gov.si/dataset/surs2108102s"
   ]
  },
  {
   "cell_type": "markdown",
   "metadata": {},
   "source": [
    "## Analiza"
   ]
  },
  {
   "cell_type": "markdown",
   "metadata": {},
   "source": [
    "Spodnji grafikon prikazuje število turistov, ki so prenočili v Sloveniji leta 2007."
   ]
  },
  {
   "cell_type": "markdown",
   "metadata": {},
   "source": [
    "<img src='img/img1.png'>"
   ]
  },
  {
   "cell_type": "markdown",
   "metadata": {},
   "source": [
    "Največ turistov je bilo sicer res iz Nemčije, vendar so absolutne številke lahko včasih zavajujoče, zato spodnji grafikon prikazuje iste države, le da so tukaj normalizirane glede na svojo populacijo. Takoj lahko vidimo, da Nemčija ni več na prvem mestu, saj je njena populacija relativno visoka v primerjavi z ostalimi državami na seznamu. Če pogledamo tri največje vrednosti na grafikonu lahko vidimo da je največji odstotek turistov iz Avstrije, Izraela in Hrvaške. Avstrija in Hrvaška sta pričakovani državi, saj Slovenija meji na njiju, Izrael pa ima v tem primeru presenetljivo visoko vrednost."
   ]
  },
  {
   "attachments": {},
   "cell_type": "markdown",
   "metadata": {},
   "source": [
    "<img src='img/img2.png'>"
   ]
  },
  {
   "cell_type": "markdown",
   "metadata": {},
   "source": [
    "Na spodnjem grafikonu lahko vidimo primerjavo števila turistov v letu 2007 in 2017."
   ]
  },
  {
   "attachments": {},
   "cell_type": "markdown",
   "metadata": {},
   "source": [
    "<img src='img/img3.png'>"
   ]
  },
  {
   "cell_type": "markdown",
   "metadata": {},
   "source": [
    "Pri večini držav, ki so bile leta 2007 med največjimi obiskovalci lahko vidimo, da število turistov vpada, pri Avstriji in Franciji celo za več kot polovico. Močno pa narašča obiskanost iz držav, pri katerih je bilo število turistov leta 2007 skoraj zanemarljivo, npr. Koreja, Kitajska in Združene države Amerike. Spodnji grafikon prikazuje normalizirane vrednosti števila turistov glede na velikost države. Tudi po desetih letih so tri največje vrednosti za Avstrijo, Izrael in Hrvaško."
   ]
  },
  {
   "attachments": {},
   "cell_type": "markdown",
   "metadata": {},
   "source": [
    "<img src='img/img4.png'>"
   ]
  },
  {
   "cell_type": "markdown",
   "metadata": {},
   "source": [
    "Še pomembnejši podatek kot države iz katerih turisti prihajajo pa je skupno število turistov in kako se spreminja po letih. Ta podatek je prikazan na spodnjem grafikonu."
   ]
  },
  {
   "attachments": {},
   "cell_type": "markdown",
   "metadata": {},
   "source": [
    "<img src='img/img5.png'>"
   ]
  },
  {
   "cell_type": "markdown",
   "metadata": {},
   "source": [
    "Kot vidimo je število turistov od leta 2007 do 2011 bistveno vpadalo, kar je morda posledica gospodarske krize v tem obdobju. Od leta 2012 naprej pa število turistov narašča, leta 2017 pa doseže največjo vrednost v obdobju 10 let. Spodnji grafikon pa prikazuje skupno število prenočitev po letih. Vidimo, da skozi čas število prenočitev pada. Iz tega lahko razberemo, da kljub temu, da skupno število turistov raste, število prenočitev pada. To bi lahko bil znak, da turizmu v Sloveniji manjka nekaj kar bi turiste zadržalo pri nas za daljše časovno obdobje, lahko pa je tudi posledica tega, da si ljudje v zadnjih letih vzamejo manj časa za počitnice v tujini, iz ekonomskih ali drugih razlogov."
   ]
  },
  {
   "attachments": {},
   "cell_type": "markdown",
   "metadata": {},
   "source": [
    "<img src='img/img6.png'>"
   ]
  },
  {
   "cell_type": "markdown",
   "metadata": {},
   "source": [
    "Ukvarjal sem se tudi s podatki o turistični aktivnosti posameznih občin. Na spodnjem grafikonu so prikazane najbolj turistično obiskane občine leta 2008 in 2017. Izkaže se, da se je turistična dejavnost v večini teh občin v 9 letih povečala, v nekaterih celo drastično. "
   ]
  },
  {
   "attachments": {},
   "cell_type": "markdown",
   "metadata": {},
   "source": [
    "<img src='img/img7.png'>"
   ]
  },
  {
   "cell_type": "markdown",
   "metadata": {},
   "source": [
    "Spodnji grafikon prikazuje rast turizma v Sloveniji. Prikazano je skupno število turistov za posamezno leto. Kot vidimo se je v 10 letih število turistov povečalo iz približno 3000000 na več kot 4500000."
   ]
  },
  {
   "attachments": {},
   "cell_type": "markdown",
   "metadata": {},
   "source": [
    "<img src='img/img8.png'>"
   ]
  },
  {
   "cell_type": "markdown",
   "metadata": {},
   "source": [
    "Zanimiv je tudi spodnji grafikon, ki prikazuje porazdelitev turistične dejavnosti po mesecih v letu. Vidimo, da je turistična dejavnost v poletnih mesecih več kot trikrat večja od zimskih mesecev. Tukaj je ponovno vidna bistvena izboljšava med letom 2008 in 2017."
   ]
  },
  {
   "attachments": {},
   "cell_type": "markdown",
   "metadata": {},
   "source": [
    "<img src='img/img9.png'>"
   ]
  },
  {
   "cell_type": "markdown",
   "metadata": {},
   "source": [
    "Spodnji grafikon prikazuje primerjavo med tremi mesti - Ljubljano, Kranjsko Goro in Izolo v letu 2017. Zanimivo je, da je oblika porazdelitve pri vseh treh enaka, čeprav bi morda pričakovali, da so nekatera mesta bolj osredotočena na turizem v določenem letnem času."
   ]
  },
  {
   "attachments": {},
   "cell_type": "markdown",
   "metadata": {},
   "source": [
    "<img src='img/img10.png'>"
   ]
  },
  {
   "cell_type": "markdown",
   "metadata": {},
   "source": [
    "Zadnji grafikon predstavlja število nočitev julija 2017 za vsako občino. Bistvena stvar, ki jo ta scatter plot prikazuje je velikostni razred razlike med najboljšimi in najslabšimi občinami na področju turizma. Pomembna stvar, ki jo lahko razberemo je tudi, da je turistična aktivnost v večini občin praktično ničelna in da večina slovenskega turizma stoji na ramenih peščice občin."
   ]
  },
  {
   "attachments": {},
   "cell_type": "markdown",
   "metadata": {},
   "source": [
    "<img src='img/img11.png'>"
   ]
  },
  {
   "cell_type": "markdown",
   "metadata": {},
   "source": [
    "## Zaključek"
   ]
  },
  {
   "cell_type": "markdown",
   "metadata": {},
   "source": [
    "Pri projektu sem podal analizo turistične aktivnosti v Sloveniji, med drugim kako se je turizem spremenil v obdobju 10 let, iz katerih držav prihaja največ turistov in katere občine so najbolj uspešne in katere bi lahko svojo turistično aktivnost izboljšale. Nadaljnja analiza bi lahko vključevala katere vrste turizma oz. katere dejavnosti privabijo veliko število turistov in kaj konkretno bi lahko določene občine izboljšale za povečanje skupnega števila nočitev v Sloveniji. Zaključimo lahko, da turizem v Sloveniji v zadnjih 10 letih narašča, z dodatno analizo pa bi lahko ta postopek še pohitrili."
   ]
  }
 ],
 "metadata": {
  "kernelspec": {
   "display_name": "Python 3",
   "language": "python",
   "name": "python3"
  },
  "language_info": {
   "codemirror_mode": {
    "name": "ipython",
    "version": 3
   },
   "file_extension": ".py",
   "mimetype": "text/x-python",
   "name": "python",
   "nbconvert_exporter": "python",
   "pygments_lexer": "ipython3",
   "version": "3.6.2"
  },
  "nbTranslate": {
   "displayLangs": [
    "*"
   ],
   "hotkey": "alt-t",
   "langInMainMenu": true,
   "sourceLang": "en",
   "targetLang": "fr",
   "useGoogleTranslate": true
  }
 },
 "nbformat": 4,
 "nbformat_minor": 2
}
